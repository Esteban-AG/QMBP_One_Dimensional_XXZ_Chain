{
 "cells": [
  {
   "cell_type": "code",
   "execution_count": 1,
   "id": "3c318931-3ed9-4281-8101-876e1682534b",
   "metadata": {},
   "outputs": [],
   "source": [
    "import numpy as np\n",
    "import scipy.linalg as LA\n",
    "from scipy.linalg import eigh\n",
    "import matplotlib.pyplot as plt\n",
    "from scipy.sparse.linalg import eigsh\n",
    "from scipy.sparse import lil_matrix\n",
    "from scipy.special import binom\n",
    "from itertools import combinations\n",
    "\n",
    "plt.style.use('seaborn-v0_8-paper')"
   ]
  },
  {
   "cell_type": "markdown",
   "id": "a7c96b8e-0639-48d8-ae01-87ef6ada62a7",
   "metadata": {
    "jp-MarkdownHeadingCollapsed": true
   },
   "source": [
    "### Non optimized Functions"
   ]
  },
  {
   "cell_type": "code",
   "execution_count": 2,
   "id": "60bfefd0-dd3c-4c1a-bd29-1fe1bc8605a9",
   "metadata": {},
   "outputs": [],
   "source": [
    "def S_z(j, N):\n",
    "    \"\"\"Bitwise implementation of S_i^{z}\"\"\"\n",
    "    jbit = 2**(N-j)\n",
    "    sigma_z = lil_matrix((2**N, 2**N))\n",
    "\n",
    "    for i in range(2**N):\n",
    "        if (jbit & i) != 0:\n",
    "            sigma_z[i,i] += 0.5\n",
    "        else: \n",
    "            sigma_z[i,i] -= 0.5\n",
    "    return sigma_z\n",
    "\n",
    "def flip_flop(i, j, N):\n",
    "    \"\"\"Bitwise implementation of S_i^{+} S_j^{-} with 0-based indexing. \"\"\"\n",
    "    bit_ij = (1 << (N - 1 - i)) | (1 << (N - 1 - j))  # Bitmask for sites i and j\n",
    "    Si_Sj = lil_matrix((2**N, 2**N)) \n",
    "\n",
    "    for I in range(2**N):  \n",
    "        I_ij = I & bit_ij  \n",
    "        hop_ij = bit_ij ^ I_ij  \n",
    "\n",
    "        if I_ij == (1 << (N - 1 - j)):  # j is up and i is down\n",
    "            new_state = I ^ bit_ij  \n",
    "            Si_Sj[new_state, I] += 1  # S_i^+ S_j^- action\n",
    "            Si_Sj[I, new_state] += 1  # Hermitian conjugate\n",
    "    \n",
    "    return Si_Sj"
   ]
  },
  {
   "cell_type": "code",
   "execution_count": 3,
   "id": "30ce692d-ade6-496f-b930-2ac4d47d0755",
   "metadata": {},
   "outputs": [
    {
     "name": "stdout",
     "output_type": "stream",
     "text": [
      "[[-0.5  0.   0.   0.   0.   0.   0.   0. ]\n",
      " [ 0.  -0.5  0.   0.   0.   0.   0.   0. ]\n",
      " [ 0.   0.   0.5  0.   0.   0.   0.   0. ]\n",
      " [ 0.   0.   0.   0.5  0.   0.   0.   0. ]\n",
      " [ 0.   0.   0.   0.  -0.5  0.   0.   0. ]\n",
      " [ 0.   0.   0.   0.   0.  -0.5  0.   0. ]\n",
      " [ 0.   0.   0.   0.   0.   0.   0.5  0. ]\n",
      " [ 0.   0.   0.   0.   0.   0.   0.   0.5]]\n"
     ]
    }
   ],
   "source": [
    "N = 3\n",
    "a = 2\n",
    "\n",
    "print(S_z(a,N).toarray())"
   ]
  },
  {
   "cell_type": "code",
   "execution_count": 4,
   "id": "dbcb4f98-aec3-4aad-b3e4-0f14a724a112",
   "metadata": {},
   "outputs": [
    {
     "name": "stdout",
     "output_type": "stream",
     "text": [
      "[[0. 0. 0. 0. 0. 0. 0. 0.]\n",
      " [0. 0. 0. 0. 0. 0. 0. 0.]\n",
      " [0. 0. 0. 0. 1. 0. 0. 0.]\n",
      " [0. 0. 0. 0. 0. 1. 0. 0.]\n",
      " [0. 0. 1. 0. 0. 0. 0. 0.]\n",
      " [0. 0. 0. 1. 0. 0. 0. 0.]\n",
      " [0. 0. 0. 0. 0. 0. 0. 0.]\n",
      " [0. 0. 0. 0. 0. 0. 0. 0.]]\n"
     ]
    }
   ],
   "source": [
    "print(flip_flop(0,1,N).toarray())"
   ]
  },
  {
   "cell_type": "markdown",
   "id": "0c267279-612f-450a-a729-63f2601d9382",
   "metadata": {},
   "source": [
    "### Implemented Functions"
   ]
  },
  {
   "cell_type": "markdown",
   "id": "323e6975-639d-4d5c-b14e-330f1d146d2b",
   "metadata": {},
   "source": [
    "We have to implement now the lookup table I[J]"
   ]
  },
  {
   "cell_type": "code",
   "execution_count": 5,
   "id": "625e1ce1-9e86-4fa0-aabf-985343c071b8",
   "metadata": {},
   "outputs": [],
   "source": [
    "def binary_permutations(N,num_ones):\n",
    "    \"\"\"\n",
    "    Generate all unique permutations of the binary representation of a given number N.\n",
    "    Optimized for large N.\n",
    "    \"\"\"\n",
    "    # Convert N to its binary representation\n",
    "    num_zeros = N - num_ones\n",
    "\n",
    "    # Total length of the binary string\n",
    "    total_length = N\n",
    "\n",
    "    # Generate positions where '1's will be placed\n",
    "    unique_permutations = []\n",
    "    for ones_positions in combinations(range(total_length), num_ones):\n",
    "        # Initialize binary list with all '0's\n",
    "        binary_list = ['0'] * total_length\n",
    "        # Place '1's at the chosen positions\n",
    "        for pos in ones_positions:\n",
    "            binary_list[pos] = '1'\n",
    "        # Convert to string and add to the result list\n",
    "        unique_permutations.append(''.join(binary_list))\n",
    "\n",
    "    unique_permutations.reverse()\n",
    "    return unique_permutations"
   ]
  },
  {
   "cell_type": "code",
   "execution_count": 6,
   "id": "c5b04142-315f-4a5c-bf24-2f94727b8a13",
   "metadata": {},
   "outputs": [
    {
     "name": "stdout",
     "output_type": "stream",
     "text": [
      "Number of unique permutations: 10\n",
      "['00011', '00101', '00110', '01001', '01010', '01100', '10001', '10010', '10100', '11000']\n"
     ]
    }
   ],
   "source": [
    "N = 5  # Input number\n",
    "result = binary_permutations(N,2)\n",
    "print(f\"Number of unique permutations: {len(result)}\")\n",
    "print(result) "
   ]
  },
  {
   "cell_type": "code",
   "execution_count": 7,
   "id": "0bc8698e-b943-4577-8ff5-5e20d67cafb3",
   "metadata": {},
   "outputs": [],
   "source": [
    "def look_index(I, N):\n",
    "    \"\"\"\n",
    "    Compute the index (J_a + J_b) of a state I in a binary basis split into two halves.\n",
    "    The spin number is implicit in the number of 1's in the binary representation of N.\n",
    "\n",
    "    Parameters:\n",
    "    - I : int, the state in decimal representation\n",
    "    - N : int, the total number of spins\n",
    "\n",
    "    Returns:\n",
    "    - int, the computed index (J_a + J_b)\n",
    "    \"\"\"\n",
    "    # Input validation\n",
    "    if not (0 <= I < 2**N):\n",
    "        raise ValueError(\"State I must be between 0 and 2^N - 1.\")\n",
    "    if N <= 0:\n",
    "        raise ValueError(\"N must be a positive integer.\")\n",
    "\n",
    "    # Convert I to binary with leading zeros\n",
    "    binary_str = bin(I)[2:].zfill(N)\n",
    "\n",
    "    # Split into left and right halves\n",
    "    mid = N // 2\n",
    "    left = binary_str[:mid+1]\n",
    "    right = binary_str[mid+1:]\n",
    "\n",
    "    # Count the number of 1's (total spin-z components)\n",
    "    total_σz = binary_str.count('1')\n",
    "    left_σz = left.count('1')\n",
    "    right_σz = right.count('1')\n",
    "\n",
    "    # Calculate J_a\n",
    "    left_val = int(left, 2)  # Convert `left` binary string to decimal\n",
    "    multiplicities = {lsz: binom(mid, total_σz - lsz) for lsz in range(total_σz + 1)}  # Precompute multiplicities\n",
    "    J_a = 0\n",
    "    for i in range(left_val + 1):\n",
    "        local_sz = bin(i).count('1')  \n",
    "        J_a += multiplicities[local_sz]\n",
    "    J_a -= multiplicities[left_σz]  # We have to rest this to get the number right, equivalent of counting with an strict inequality\n",
    "\n",
    "    # Calculate J_b (unchanged)\n",
    "    right_val = int(right, 2)\n",
    "    r_dgen = int(binom(mid, right_σz))  # Right degeneracy: how many states with given spin-z\n",
    "    J_b = 0\n",
    "    k = 1\n",
    "    while k <= r_dgen:\n",
    "        J_b += 1\n",
    "        if k == right_val:break \n",
    "        k += 1\n",
    "\n",
    "    return int(J_a + J_b)"
   ]
  },
  {
   "cell_type": "code",
   "execution_count": 20,
   "id": "6d87f674-d122-462d-bd37-3710b52245e2",
   "metadata": {},
   "outputs": [
    {
     "name": "stdout",
     "output_type": "stream",
     "text": [
      "i=00011 1\n",
      "i=00101 2\n",
      "i=00110 3\n",
      "i=01001 4\n",
      "i=01010 5\n",
      "i=01100 6\n"
     ]
    }
   ],
   "source": [
    "mmm = 5\n",
    "for i in [3,5,6,9,10,12]:\n",
    "    print(f'i={bin(i)[2:].zfill(mmm)}', look_index(i,mmm))"
   ]
  },
  {
   "cell_type": "code",
   "execution_count": 9,
   "id": "35479871-6333-4d76-96aa-651dc885e215",
   "metadata": {},
   "outputs": [],
   "source": [
    "def S_z(state, j, N):\n",
    "    \"\"\"\n",
    "    Compute the diagonal action of S_z at site j on the given state.\n",
    "    \"\"\"\n",
    "    if (state >> (N - 1 - j)) & 1:  # If site j is up (1)\n",
    "        return 0.5\n",
    "    else:  # If site j is down (0)\n",
    "        return -0.5\n",
    "\n",
    "def flip_flop(state, i, j, N):\n",
    "    \"\"\"\n",
    "    Apply the S_i^+ S_j^- + S_i^- S_j^+ operator on a given state.\n",
    "    \"\"\"\n",
    "    if (((state >> (N - 1 - i)) & 1) == 0) and (((state >> (N - 1 - j)) & 1) == 1):\n",
    "        # Flip spins at sites i and j (S_i^+ S_j^- action)\n",
    "        new_state = state ^ ((1 << (N - 1 - i)) | (1 << (N - 1 - j)))\n",
    "        return new_state\n",
    "    return None"
   ]
  },
  {
   "cell_type": "code",
   "execution_count": 10,
   "id": "9fec3bbf-2b25-4fcf-88f8-457ad59ab20d",
   "metadata": {},
   "outputs": [
    {
     "name": "stdout",
     "output_type": "stream",
     "text": [
      "Initial state in binary: 0b101\n",
      "S_z at site 1: 0.5\n",
      "S_z at site 2: -0.5\n",
      "New state after flip-flop (S_0^+ S_1^-): 0b1001\n"
     ]
    }
   ],
   "source": [
    "# Parameters\n",
    "N = 4                     # Total number of sites\n",
    "state = 0b0101            # Binary: ↓↑↓↑\n",
    "\n",
    "print(\"Initial state in binary:\", bin(state))\n",
    "\n",
    "# 1. Compute S_z at site 1 and site 2\n",
    "Sz_1 = S_z(state, j=1, N=N)\n",
    "Sz_2 = S_z(state, j=2, N=N)\n",
    "\n",
    "print(f\"S_z at site 1: {Sz_1}\")\n",
    "print(f\"S_z at site 2: {Sz_2}\")\n",
    "\n",
    "# 2. Apply the flip-flop operator S_0^+ S_1^- (acting on sites 0 and 1)\n",
    "new_state = flip_flop(state, i=0, j=1, N=N)\n",
    "\n",
    "if new_state is not None:\n",
    "    print(\"New state after flip-flop (S_0^+ S_1^-):\", bin(new_state))\n",
    "else:\n",
    "    print(\"Flip-flop operator had no effect (invalid action).\")"
   ]
  },
  {
   "cell_type": "markdown",
   "id": "6e07d688-7357-450a-8c17-614bd370d28e",
   "metadata": {},
   "source": [
    "Finally, we can implement the Hamiltonian"
   ]
  },
  {
   "attachments": {
    "5e1d90c1-75a5-4469-891a-d2a80523bffe.png": {
     "image/png": "[encoded data removed]"
    }
   },
   "cell_type": "markdown",
   "id": "da8498a6-4792-407b-aa1d-50fe3aca2435",
   "metadata": {},
   "source": [
    "![image.png](attachment:5e1d90c1-75a5-4469-891a-d2a80523bffe.png)"
   ]
  },
  {
   "cell_type": "code",
   "execution_count": 11,
   "id": "f61ab623-c5db-4889-b304-33850e889e6c",
   "metadata": {},
   "outputs": [],
   "source": [
    "def XXZ_Hamiltonian_OPB(N, total_sz, J=1.0, Delta=1.0):\n",
    "    \"\"\"\n",
    "    Construct the XXZ spin chain Hamiltonian with open boundary conditions (OPB) \n",
    "    within a fixed total Sz sector.\n",
    "    \"\"\"\n",
    "    # Generate the basis that conserves total S^z\n",
    "    basis = binary_permutations(N, total_sz)  # Basis as binary strings\n",
    "    dim = len(basis) \n",
    "    # print(basis)\n",
    "    # print('Block basis dim:', dim)\n",
    "\n",
    "    # Initialize the Hamiltonian as a sparse matrix\n",
    "    H = lil_matrix((dim, dim))\n",
    "\n",
    "    # Construct the Hamiltonian\n",
    "    for idx, state in enumerate(basis):\n",
    "        state = int(state, 2)  # Convert binary string to integer\n",
    "        \n",
    "        for j in range(N - 1):  # Open boundary conditions        \n",
    "            # ZZ term (interaction between sites j and j+1)\n",
    "            Sz_j = S_z(state, j, N)        # S^z at site j\n",
    "            Sz_jp1 = S_z(state, j+1, N)    # S^z at site j+1\n",
    "            H[idx, idx] += Delta * Sz_j * Sz_jp1\n",
    "            \n",
    "            # XX + YY term (flip-flop interaction)\n",
    "            new_state = flip_flop(state, j, j+1, N)\n",
    "            if new_state is not None and bin(new_state)[2:].zfill(N) in basis:\n",
    "                # Find the index of the new state in the basis\n",
    "                new_idx = look_index(new_state, N)-1\n",
    "                if new_idx is not None:\n",
    "                    H[idx, new_idx] += -J / 2\n",
    "                    H[new_idx, idx] += -J / 2  # Hermitian conjugate\n",
    "\n",
    "    return H"
   ]
  },
  {
   "cell_type": "code",
   "execution_count": 26,
   "id": "e8e432a5-e218-42de-9b15-01b3b2a65216",
   "metadata": {},
   "outputs": [
    {
     "name": "stdout",
     "output_type": "stream",
     "text": [
      "XXZ Hamiltonian in the total Sz = 0 sector:\n",
      "[[ 0.5 -0.5  0.   0.   0.   0.   0.   0.   0.   0. ]\n",
      " [-0.5 -0.5 -0.5 -0.5  0.   0.   0.   0.   0.   0. ]\n",
      " [ 0.  -0.5  0.   0.  -0.5  0.   0.   0.   0.   0. ]\n",
      " [ 0.  -0.5  0.  -0.5 -0.5  0.  -0.5  0.   0.   0. ]\n",
      " [ 0.   0.  -0.5 -0.5 -1.  -0.5  0.  -0.5  0.   0. ]\n",
      " [ 0.   0.   0.   0.  -0.5  0.   0.   0.  -0.5  0. ]\n",
      " [ 0.   0.   0.  -0.5  0.   0.   0.  -0.5  0.   0. ]\n",
      " [ 0.   0.   0.   0.  -0.5  0.  -0.5 -0.5 -0.5  0. ]\n",
      " [ 0.   0.   0.   0.   0.  -0.5  0.  -0.5 -0.5 -0.5]\n",
      " [ 0.   0.   0.   0.   0.   0.   0.   0.  -0.5  0.5]]\n",
      "Eigenvalues of the XXZ Hamiltonian (N=5, Delta=1):\n",
      "[-1.92788625]\n"
     ]
    }
   ],
   "source": [
    "N = 5              # Number of spins\n",
    "total_sz = N//2        # Total S^z sector\n",
    "J = 1.0             # Coupling for XX and YY terms\n",
    "Delta = 1           # Coupling for ZZ term\n",
    "\n",
    "# Generate the Hamiltonian\n",
    "H = XXZ_Hamiltonian_OPB(N, total_sz, J, Delta)\n",
    "\n",
    "# Convert to a dense matrix for display\n",
    "print(\"XXZ Hamiltonian in the total Sz = 0 sector:\")\n",
    "print(H.todense())\n",
    "\n",
    "# Convert to CSR for efficient diagonalization\n",
    "H_csr = H.tocsr()\n",
    "\n",
    "# Calculate eigenvalues using Lanczos algorithm (eigs for symmetric matrices)\n",
    "k = 1  # Number of eigenvalues to compute\n",
    "eigenvalues = eigsh(H_csr, k=k, which='SA', return_eigenvectors=False)\n",
    "\n",
    "# Print the eigenvalues\n",
    "print(f\"Eigenvalues of the XXZ Hamiltonian (N={N}, Delta={Delta}):\")\n",
    "print(eigenvalues)"
   ]
  },
  {
   "cell_type": "code",
   "execution_count": null,
   "id": "93cbe1c4-036d-424d-bc10-9e2891b57c58",
   "metadata": {},
   "outputs": [],
   "source": []
  }
 ],
 "metadata": {
  "kernelspec": {
   "display_name": "Python 3 (ipykernel)",
   "language": "python",
   "name": "python3"
  },
  "language_info": {
   "codemirror_mode": {
    "name": "ipython",
    "version": 3
   },
   "file_extension": ".py",
   "mimetype": "text/x-python",
   "name": "python",
   "nbconvert_exporter": "python",
   "pygments_lexer": "ipython3",
   "version": "3.11.7"
  }
 },
 "nbformat": 4,
 "nbformat_minor": 5
}
