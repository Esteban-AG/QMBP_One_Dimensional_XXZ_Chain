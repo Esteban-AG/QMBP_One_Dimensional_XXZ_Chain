{
 "cells": [
  {
   "cell_type": "code",
   "execution_count": 4,
   "metadata": {},
   "outputs": [
    {
     "name": "stdout",
     "output_type": "stream",
     "text": [
      "-2.4935771338879262\n"
     ]
    }
   ],
   "source": [
    "import matplotlib.pyplot as plt\n",
    "import numpy as np\n",
    "from scipy.sparse import lil_matrix\n",
    "from scipy.sparse.linalg import eigsh\n",
    "\n",
    "def sub_basis(full_basis, S_z_sector):\n",
    "    \n",
    "    sub_basis_list = []\n",
    "    for state in full_basis:\n",
    "        TS_z=sum(1 if i=='1' else -1 for i in state)/2\n",
    "        if TS_z==S_z_sector:\n",
    "            sub_basis_list.append(state)\n",
    "    return sub_basis_list\n",
    "\n",
    "def hamiltonian_sub_basis(L, J, Delta, S_z_sector):\n",
    "    \n",
    "    total_basis=[format(i, f'0{L}b') for i in range(2**L)]\n",
    "    basis=sub_basis(total_basis, S_z_sector)\n",
    "    dim=len(basis)\n",
    "    H=lil_matrix((dim,dim))\n",
    "    \n",
    "    def Sz_jSz_j1(state, j):\n",
    "        return (1 if state[j]=='1' else -1)*(1 if state[j+1]=='1' else -1)/4\n",
    "    \n",
    "    def flip(state, j):\n",
    "        flipped_state=list(state)\n",
    "        if state[j]!=state[j+1]:\n",
    "            flipped_state[j], flipped_state[j+1]= state[j+1], state[j]\n",
    "            return ''.join(flipped_state)\n",
    "        return None\n",
    "    \n",
    "    for i, state in enumerate(basis):\n",
    "        \n",
    "        for j in range(L-1):\n",
    "            H[i,i]+= Delta*Sz_jSz_j1(state, j)\n",
    "            \n",
    "        for j in range(L-1):\n",
    "            flipped = flip(state, j)\n",
    "            if flipped is not None and flipped in basis:\n",
    "                k=basis.index(flipped)\n",
    "                H[i,k]+= -J/2\n",
    "                \n",
    "    return H, basis\n",
    "\n",
    "J=1.0\n",
    "#L=[14, 16, 18, 20]\n",
    "L=6\n",
    "#Delta=[-2.0, -0.5, 0.5, 2.0]\n",
    "Delta=1\n",
    "S_z_sector=0\n",
    "\n",
    "#for l in L:\n",
    "    #for delta in Delta:\n",
    "        #if delta == -2.0:\n",
    "            #hamiltonian, basis = hamiltonian_sub_basis(l, J, delta, -l/2)\n",
    "            #hamiltonian = hamiltonian.toarray()\n",
    "\n",
    "            #eigenvalues, eigenvectors = eigsh(hamiltonian, k=1, which='SA')\n",
    "            #print(f'ground state for L={l} and Δ={delta}:', eigenvalues[0])\n",
    "            \n",
    "        #if delta == -0.5 or 0.5:\n",
    "            #hamiltonian, basis = hamiltonian_sub_basis(l, J, delta, 0)\n",
    "            #hamiltonian = hamiltonian.toarray()\n",
    "\n",
    "            #eigenvalues, eigenvectors = eigsh(hamiltonian, k=1, which='SA')\n",
    "            #print (f'ground state for L={l} and $\\Delta$={delta}:', eigenvalue[0])\n",
    "            \n",
    "        #else:\n",
    "            #hamiltonian, basis = hamiltonian_sub_basis(l, J, delta, 0)\n",
    "            #hamiltonian = hamiltonian.toarray()\n",
    "\n",
    "            #eigenvalues, eigenvectors = eigsh(hamiltonian, k=1, which='SA')\n",
    "            #print(f'ground state for L={l} and Δ={delta}:', eigenvalues[0])\n",
    "    \n",
    "\n",
    "hamiltonian, basis = hamiltonian_sub_basis(L, J, Delta, S_z_sector)\n",
    "hamiltonian = hamiltonian.tocsr()\n",
    "\n",
    "eigenvalues, eigenvectors = eigsh(hamiltonian, k=1, which='SA')\n",
    "print (eigenvalues[0])\n",
    "        \n",
    "    "
   ]
  },
  {
   "cell_type": "code",
   "execution_count": null,
   "metadata": {},
   "outputs": [],
   "source": []
  },
  {
   "cell_type": "code",
   "execution_count": null,
   "metadata": {},
   "outputs": [],
   "source": []
  }
 ],
 "metadata": {
  "kernelspec": {
   "display_name": "Python 3 (ipykernel)",
   "language": "python",
   "name": "python3"
  },
  "language_info": {
   "codemirror_mode": {
    "name": "ipython",
    "version": 3
   },
   "file_extension": ".py",
   "mimetype": "text/x-python",
   "name": "python",
   "nbconvert_exporter": "python",
   "pygments_lexer": "ipython3",
   "version": "3.11.7"
  }
 },
 "nbformat": 4,
 "nbformat_minor": 4
}
